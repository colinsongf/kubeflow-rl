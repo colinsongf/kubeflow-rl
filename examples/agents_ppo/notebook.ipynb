{
 "cells": [
  {
   "cell_type": "markdown",
   "metadata": {},
   "source": [
    "## Agents on Kubeflow 🤓"
   ]
  },
  {
   "cell_type": "markdown",
   "metadata": {},
   "source": [
    "In this tutorial we will be training a reinforcement learning agent from the `tensorflow/agents` project on Kubernetes using Kubeflow."
   ]
  },
  {
   "cell_type": "markdown",
   "metadata": {},
   "source": [
    "### Preliminaries"
   ]
  },
  {
   "cell_type": "markdown",
   "metadata": {},
   "source": [
    "#### Agents"
   ]
  },
  {
   "cell_type": "markdown",
   "metadata": {},
   "source": [
    "- A framework for building neural network-based agents that learn to perform tasks through interaction with an environment: https://github.com/tensorflow/agents\n",
    "- These environments are provided through the OpenAI gym interface: https://github.com/openai/gym"
   ]
  },
  {
   "cell_type": "markdown",
   "metadata": {},
   "source": [
    "#### What is kubeflow?"
   ]
  },
  {
   "cell_type": "markdown",
   "metadata": {},
   "source": [
    "- Makes it easier to do distributed training of neural network models\n",
    "- Get up to speed on distributed tensorflow starting with [these docs](https://www.tensorflow.org/deploy/distributed)\n",
    "- Link to kubeflow documentation here: https://github.com/tensorflow/k8s"
   ]
  },
  {
   "cell_type": "markdown",
   "metadata": {},
   "source": [
    "#### Overview"
   ]
  },
  {
   "cell_type": "markdown",
   "metadata": {},
   "source": [
    "- Here we will be training a reinforcement learning agent to walk around a domain. The result will look lke the following: https://www.youtube.com/watch?v=UE7tvibbTDQ\n",
    "- This narrative consists of three phases:\n",
    "    1. Deployment and configuration of the Kubernetes cluster we'll need to run the training job\n",
    "    2. A phase of learning the model parameters necessary to perform the task followed by\n",
    "    3. Capture of a video of the model performing the task with the (then) parameterized model."
   ]
  },
  {
   "cell_type": "markdown",
   "metadata": {},
   "source": [
    "### Setup and Deployment"
   ]
  },
  {
   "cell_type": "markdown",
   "metadata": {},
   "source": [
    "#### Google Cloud Platform"
   ]
  },
  {
   "cell_type": "markdown",
   "metadata": {},
   "source": [
    "- What is the Google Cloud Platform?\n",
    "    - https://cloud.google.com/getting-started/\n",
    "- You will need to configure your cloud platform account and create a project before being able to proceed\n",
    "    - Which apis must be enabled?\n",
    "- Gcloud command line tool: https://cloud.google.com/sdk/gcloud/"
   ]
  },
  {
   "cell_type": "code",
   "execution_count": null,
   "metadata": {},
   "outputs": [],
   "source": [
    "%%bash\n",
    "gcloud auth login && gcloud config set project [your project ID]"
   ]
  },
  {
   "cell_type": "markdown",
   "metadata": {},
   "source": [
    "#### Obtain the code and dependencies"
   ]
  },
  {
   "cell_type": "markdown",
   "metadata": {},
   "source": [
    "- Kubeflow github: https://github.com/tensorflow/k8s\n",
    "- The kubeflow code can be obtained from github with the following command"
   ]
  },
  {
   "cell_type": "code",
   "execution_count": 1,
   "metadata": {},
   "outputs": [
    {
     "ename": "SyntaxError",
     "evalue": "invalid syntax (<ipython-input-1-00d251b42567>, line 1)",
     "output_type": "error",
     "traceback": [
      "\u001b[0;36m  File \u001b[0;32m\"<ipython-input-1-00d251b42567>\"\u001b[0;36m, line \u001b[0;32m1\u001b[0m\n\u001b[0;31m    pip install tfk8s\u001b[0m\n\u001b[0m              ^\u001b[0m\n\u001b[0;31mSyntaxError\u001b[0m\u001b[0;31m:\u001b[0m invalid syntax\n"
     ]
    }
   ],
   "source": [
    "%%bash\n",
    "pip install tfk8s\n",
    "pip install jinja2"
   ]
  },
  {
   "cell_type": "markdown",
   "metadata": {},
   "source": [
    "#### Deploy the cluster"
   ]
  },
  {
   "cell_type": "markdown",
   "metadata": {},
   "source": [
    "- Your very own kubeflow cluster can be deployed on the Google Cloud Platform with the following command"
   ]
  },
  {
   "cell_type": "code",
   "execution_count": null,
   "metadata": {},
   "outputs": [],
   "source": [
    "%%bash\n",
    "GCLOUD_PROJECT_ID=[your project ID]\n",
    "SALT=`date | shasum -a 256 | cut -c1-8`\n",
    "SCRIPT_DIR=\"$(cd \"$(dirname \"${BASH_SOURCE[0]}\")\" && pwd)\"\n",
    "CHART=https://storage.googleapis.com/tf-on-k8s-dogfood-releases/latest/tf-job-operator-chart-latest.tgz\n",
    "\n",
    "python -m tfk8s.deploy setup --project ${GCLOUD_PROJECT_ID} --cluster dev-${SALT} \\\n",
    "                             --zone us-central1-f --chart $CHART \\\n",
    "                             --junit_path /tmp/junit-info --initial_node_count 1"
   ]
  },
  {
   "cell_type": "markdown",
   "metadata": {},
   "source": [
    "#### Test your deployment"
   ]
  },
  {
   "cell_type": "markdown",
   "metadata": {},
   "source": [
    "- Provided the conditions under which you ran the above commands were identical to mine you'll get the desired result.\n",
    "- Provide the command to verify the deployment is working fine."
   ]
  },
  {
   "cell_type": "code",
   "execution_count": 38,
   "metadata": {},
   "outputs": [
    {
     "name": "stdout",
     "output_type": "stream",
     "text": [
      "RUNNING: tf-job-tfjob-test-dlgd78\n",
      "PASSED: tf-job-tfjob-test-dlgd78\n"
     ]
    }
   ],
   "source": [
    "%%bash\n",
    "helm test tf-job"
   ]
  },
  {
   "cell_type": "markdown",
   "metadata": {},
   "source": [
    "#### Create output bucket"
   ]
  },
  {
   "cell_type": "markdown",
   "metadata": {},
   "source": [
    "Lastly we need to create a Google Cloud Storage bucket to store job logs. That can be created from the command line with the following:"
   ]
  },
  {
   "cell_type": "code",
   "execution_count": null,
   "metadata": {},
   "outputs": [],
   "source": [
    "GCLOUD_PROJECT_ID=[your project ID]\n",
    "gsutil mb gs://${GCLOUD_PROJECT_ID}-k8s"
   ]
  },
  {
   "cell_type": "markdown",
   "metadata": {},
   "source": [
    "### Training"
   ]
  },
  {
   "cell_type": "markdown",
   "metadata": {},
   "source": [
    "#### Objectives"
   ]
  },
  {
   "cell_type": "markdown",
   "metadata": {},
   "source": [
    "- The objective of the training phase is to learn the parameterization of our model that confers a high level of performance on the provided task"
   ]
  },
  {
   "cell_type": "markdown",
   "metadata": {},
   "source": [
    "#### Parameterizing the run"
   ]
  },
  {
   "cell_type": "markdown",
   "metadata": {},
   "source": [
    "The parameters for a TFJob is typically specified using a YAML file. The following will template a TFJob yaml to `/tmp/tfjob.yaml` which we will subsequently run on kubernetes."
   ]
  },
  {
   "cell_type": "code",
   "execution_count": 2,
   "metadata": {},
   "outputs": [
    {
     "name": "stderr",
     "output_type": "stream",
     "text": [
      "bash: line 2: project: command not found\n"
     ]
    }
   ],
   "source": [
    "%%bash\n",
    "\n",
    "GCLOUD_PROJECT_ID=[your project ID]\n",
    "SALT=`date | shasum -a 256 | cut -c1-8`\n",
    "VERSION_TAG=cpu-${SALT}\n",
    "AGENTS_CPU=gcr.io/${PROJECT_ID}/agents:${VERSION_TAG}\n",
    "LOG_DIR=gs://${GCLOUD_PROJECT_ID}-k8s/jobs/run-${SALT}\n",
    "JOB_NAME=tfagents-${SALT}\n",
    "\n",
    "echo '\n",
    "apiVersion: \"tensorflow.org/v1alpha1\"\n",
    "kind: \"TfJob\"\n",
    "metadata:\n",
    "  name: \"{{job_name}}\"\n",
    "  namespace: default\n",
    "spec:\n",
    "  replicaSpecs:\n",
    "    - replicas: 1\n",
    "      tfReplicaType: MASTER\n",
    "      template:\n",
    "        spec:\n",
    "          containers:\n",
    "            - image: {{image}}\n",
    "              name: tensorflow\n",
    "              args:\n",
    "              - --log_dir\n",
    "              - {{log_dir}}\n",
    "              - --config\n",
    "              - {{environment}}\n",
    "              - --mode\n",
    "              - {{mode}}\n",
    "              - --run_base_tag\n",
    "              - {{job_name}}\n",
    "          restartPolicy: OnFailure\n",
    "  tensorBoard:\n",
    "    logDir: {{log_dir}}\n",
    "  tfImage: gcr.io/dev01-181118-181500/agents-base:cpu-tf-latest\n",
    "' > /tmp/tfjob.template.yaml\n",
    "\n",
    "jinja2 /tmp/tfjob.template.yaml \\\n",
    "   -D image=${AGENTS_CPU} \\\n",
    "   -D job_name=${JOB_NAME} \\\n",
    "   -D log_dir=${LOG_DIR} \\\n",
    "   -D environment=pybullet_ant \\\n",
    "   -D mode=train > /tmp/tfjob.yaml"
   ]
  },
  {
   "cell_type": "markdown",
   "metadata": {},
   "source": [
    "#### Launching the TFJob"
   ]
  },
  {
   "cell_type": "markdown",
   "metadata": {},
   "source": [
    "Once the TFJob YAML is prepared with the above command we're ready to launch the TFJob. This can be done as follows:"
   ]
  },
  {
   "cell_type": "code",
   "execution_count": null,
   "metadata": {},
   "outputs": [],
   "source": [
    "kubectl create -f /tmp/tfjob.yaml"
   ]
  },
  {
   "cell_type": "markdown",
   "metadata": {},
   "source": [
    "The TFJob and the availibility and IDs of pod jobs can be listed with `kubectl get pods`, for example yielding the following:"
   ]
  },
  {
   "cell_type": "code",
   "execution_count": 14,
   "metadata": {},
   "outputs": [
    {
     "name": "stdout",
     "output_type": "stream",
     "text": [
      "NAME                                                  READY     STATUS             RESTARTS   AGE\n",
      "tf-job-operator-59ffc48689-vtv6k                      1/1       Running            0          1d\n",
      "tfagents-5e05463f-master-xhga-0-xzr9b                 0/1       CrashLoopBackOff   405        1d\n",
      "tfagents-5e05463f-ps-xhga-0-bqfn9                     1/1       Running            0          1d\n",
      "tfagents-5e05463f-ps-xhga-1-x98wn                     1/1       Running            0          1d\n",
      "tfagents-5e05463f-tensorboard-xhga-557995b57f-6kx6j   1/1       Running            0          1d\n",
      "tfagents-5e05463f-worker-xhga-0-p9q5x                 1/1       Running            417        1d\n",
      "tfagents-5e05463f-worker-xhga-1-xl6st                 0/1       CrashLoopBackOff   408        1d\n",
      "tfagents-5e05463f-worker-xhga-2-h947f                 1/1       Running            414        1d\n"
     ]
    }
   ],
   "source": [
    "%%bash\n",
    "kubectl get pods"
   ]
  },
  {
   "cell_type": "markdown",
   "metadata": {},
   "source": [
    "#### Monitoring training"
   ]
  },
  {
   "cell_type": "markdown",
   "metadata": {},
   "source": [
    "As part of the TFJob we started, because we included the `tensorBoard` field, a tensorboard instance will have been deployed. Deployments on kubernetes can be listed with the following:"
   ]
  },
  {
   "cell_type": "code",
   "execution_count": 15,
   "metadata": {},
   "outputs": [
    {
     "name": "stdout",
     "output_type": "stream",
     "text": [
      "NAME                                 DESIRED   CURRENT   UP-TO-DATE   AVAILABLE   AGE\n",
      "tf-job-operator                      1         1         1            1           1d\n",
      "tfagents-5e05463f-tensorboard-xhga   1         1         1            1           1d\n"
     ]
    }
   ],
   "source": [
    "%%bash\n",
    "kubectl get deployments"
   ]
  },
  {
   "cell_type": "markdown",
   "metadata": {},
   "source": [
    "Once we have the ID of our tensorboard deployment we can open tensorboard in our browser, after starting the kubernetes proxy with `kubectl proxy`, with the following command (templating in your deployment ID):"
   ]
  },
  {
   "cell_type": "code",
   "execution_count": 12,
   "metadata": {},
   "outputs": [],
   "source": [
    "%%bash\n",
    "TENSORBOARD_DEPLOYMENT_ID=[your tensorboard deployment ID]\n",
    "open http://127.0.0.1:8001/api/v1/proxy/namespaces/default/services/${TENSORBOARD_DEPLOYMENT_ID}:80/"
   ]
  },
  {
   "cell_type": "markdown",
   "metadata": {},
   "source": [
    "This will open tensorboard in a new browser tab."
   ]
  },
  {
   "cell_type": "markdown",
   "metadata": {},
   "source": [
    "### Simulation"
   ]
  },
  {
   "cell_type": "markdown",
   "metadata": {},
   "source": [
    "#### Objectives"
   ]
  },
  {
   "cell_type": "markdown",
   "metadata": {},
   "source": [
    "- Generate a gif of our parameterized model performing the task"
   ]
  },
  {
   "cell_type": "markdown",
   "metadata": {},
   "source": [
    "#### Obtaining the model locally"
   ]
  },
  {
   "cell_type": "markdown",
   "metadata": {},
   "source": [
    "- The following will transfer the model checkpoint to our local machine so we can run the model in visualize mode"
   ]
  },
  {
   "cell_type": "code",
   "execution_count": null,
   "metadata": {},
   "outputs": [],
   "source": [
    "%%bash\n",
    "gsutil -m cp -r <gcs logdir path>"
   ]
  },
  {
   "cell_type": "markdown",
   "metadata": {},
   "source": [
    "#### Simulating the model"
   ]
  },
  {
   "cell_type": "markdown",
   "metadata": {},
   "source": [
    "- Using the local copy of the model checkpoint we can simulate the model performing the task with the following command:"
   ]
  },
  {
   "cell_type": "code",
   "execution_count": null,
   "metadata": {},
   "outputs": [],
   "source": [
    "%%bash\n",
    "\n",
    "# TODO: Run the model inside of a container with model parameters mounted and container display captured\n",
    "#  - E.g. over VNC...\n",
    "\n",
    "# python task.py --mode simulate --log_dir <path to logs>"
   ]
  },
  {
   "cell_type": "markdown",
   "metadata": {},
   "source": [
    "#### The result"
   ]
  },
  {
   "cell_type": "markdown",
   "metadata": {},
   "source": [
    "- The above will open a display window showing the agent performing the task. Below is a screen capture gif showing the expected result."
   ]
  },
  {
   "cell_type": "code",
   "execution_count": null,
   "metadata": {},
   "outputs": [],
   "source": [
    "(the resulting gif)"
   ]
  },
  {
   "cell_type": "markdown",
   "metadata": {},
   "source": [
    "### Next actions"
   ]
  },
  {
   "cell_type": "markdown",
   "metadata": {},
   "source": [
    "If this is your first time working with these technologies you might be interested in some suggestions of good next steps. Here are some ideas:\n",
    "- Fork the above code and run it (possibly with modification) on other learning environments\n",
    "- Take a shot at implementing your own (very simple) learning environment and use this agent to learn it."
   ]
  }
 ],
 "metadata": {
  "kernelspec": {
   "display_name": "Python 2",
   "language": "python",
   "name": "python2"
  },
  "language_info": {
   "codemirror_mode": {
    "name": "ipython",
    "version": 2
   },
   "file_extension": ".py",
   "mimetype": "text/x-python",
   "name": "python",
   "nbconvert_exporter": "python",
   "pygments_lexer": "ipython2",
   "version": "2.7.14"
  }
 },
 "nbformat": 4,
 "nbformat_minor": 2
}
